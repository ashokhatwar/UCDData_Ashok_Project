{
 "cells": [
  {
   "cell_type": "code",
   "execution_count": 29,
   "id": "9bae79f4",
   "metadata": {},
   "outputs": [
    {
     "name": "stdout",
     "output_type": "stream",
     "text": [
      "Requirement already satisfied: yfinance in c:\\users\\anushka\\anaconda3\\lib\\site-packages (0.1.74)\n",
      "Requirement already satisfied: lxml>=4.5.1 in c:\\users\\anushka\\anaconda3\\lib\\site-packages (from yfinance) (4.6.3)\n",
      "Requirement already satisfied: multitasking>=0.0.7 in c:\\users\\anushka\\anaconda3\\lib\\site-packages (from yfinance) (0.0.11)\n",
      "Requirement already satisfied: numpy>=1.15 in c:\\users\\anushka\\anaconda3\\lib\\site-packages (from yfinance) (1.20.3)\n",
      "Requirement already satisfied: pandas>=0.24.0 in c:\\users\\anushka\\anaconda3\\lib\\site-packages (from yfinance) (1.3.4)\n",
      "Requirement already satisfied: requests>=2.26 in c:\\users\\anushka\\anaconda3\\lib\\site-packages (from yfinance) (2.26.0)\n",
      "Requirement already satisfied: pytz>=2017.3 in c:\\users\\anushka\\anaconda3\\lib\\site-packages (from pandas>=0.24.0->yfinance) (2021.3)\n",
      "Requirement already satisfied: python-dateutil>=2.7.3 in c:\\users\\anushka\\anaconda3\\lib\\site-packages (from pandas>=0.24.0->yfinance) (2.8.2)\n",
      "Requirement already satisfied: six>=1.5 in c:\\users\\anushka\\anaconda3\\lib\\site-packages (from python-dateutil>=2.7.3->pandas>=0.24.0->yfinance) (1.16.0)\n",
      "Requirement already satisfied: charset-normalizer~=2.0.0 in c:\\users\\anushka\\anaconda3\\lib\\site-packages (from requests>=2.26->yfinance) (2.0.4)\n",
      "Requirement already satisfied: certifi>=2017.4.17 in c:\\users\\anushka\\anaconda3\\lib\\site-packages (from requests>=2.26->yfinance) (2021.10.8)\n",
      "Requirement already satisfied: idna<4,>=2.5 in c:\\users\\anushka\\anaconda3\\lib\\site-packages (from requests>=2.26->yfinance) (3.2)\n",
      "Requirement already satisfied: urllib3<1.27,>=1.21.1 in c:\\users\\anushka\\anaconda3\\lib\\site-packages (from requests>=2.26->yfinance) (1.26.7)\n",
      "         Date     Open     High      Low    Close  Adj Close  Volume\n",
      "0  2021-09-30  0.74481  0.74530  0.73980  0.74480    0.74480       0\n",
      "1  2021-10-01  0.74241  0.74425  0.73673  0.74240    0.74240       0\n",
      "2  2021-10-04  0.73687  0.73890  0.73315  0.73687    0.73687       0\n",
      "3  2021-10-05  0.73488  0.73606  0.73260  0.73489    0.73489       0\n",
      "4  2021-10-06  0.73391  0.73830  0.73360  0.73380    0.73380       0\n"
     ]
    }
   ],
   "source": [
    "!pip install yfinance\n",
    "import numpy as np\n",
    "import pandas as pd\n",
    "import matplotlib.pyplot as plt\n",
    "import seaborn as sns\n",
    "import yfinance as yf\n",
    "from seaborn import regression\n",
    "sns.set()\n",
    "plt.style.use('seaborn-whitegrid')\n",
    "\n",
    "data = pd.read_csv(\"USD GBP Currency.csv\")\n",
    "print(data.head())"
   ]
  },
  {
   "cell_type": "code",
   "execution_count": 30,
   "id": "24faefe2",
   "metadata": {},
   "outputs": [
    {
     "name": "stdout",
     "output_type": "stream",
     "text": [
      "[*********************100%***********************]  1 of 1 completed\n"
     ]
    },
    {
     "data": {
      "text/html": [
       "<div>\n",
       "<style scoped>\n",
       "    .dataframe tbody tr th:only-of-type {\n",
       "        vertical-align: middle;\n",
       "    }\n",
       "\n",
       "    .dataframe tbody tr th {\n",
       "        vertical-align: top;\n",
       "    }\n",
       "\n",
       "    .dataframe thead th {\n",
       "        text-align: right;\n",
       "    }\n",
       "</style>\n",
       "<table border=\"1\" class=\"dataframe\">\n",
       "  <thead>\n",
       "    <tr style=\"text-align: right;\">\n",
       "      <th></th>\n",
       "      <th>Open</th>\n",
       "      <th>High</th>\n",
       "      <th>Low</th>\n",
       "      <th>Close</th>\n",
       "      <th>Adj Close</th>\n",
       "      <th>Volume</th>\n",
       "    </tr>\n",
       "    <tr>\n",
       "      <th>Date</th>\n",
       "      <th></th>\n",
       "      <th></th>\n",
       "      <th></th>\n",
       "      <th></th>\n",
       "      <th></th>\n",
       "      <th></th>\n",
       "    </tr>\n",
       "  </thead>\n",
       "  <tbody>\n",
       "    <tr>\n",
       "      <th>2022-09-23</th>\n",
       "      <td>1.126304</td>\n",
       "      <td>1.127345</td>\n",
       "      <td>1.089859</td>\n",
       "      <td>1.126418</td>\n",
       "      <td>1.126418</td>\n",
       "      <td>0</td>\n",
       "    </tr>\n",
       "    <tr>\n",
       "      <th>2022-09-26</th>\n",
       "      <td>1.079914</td>\n",
       "      <td>1.091560</td>\n",
       "      <td>1.037904</td>\n",
       "      <td>1.079739</td>\n",
       "      <td>1.079739</td>\n",
       "      <td>0</td>\n",
       "    </tr>\n",
       "    <tr>\n",
       "      <th>2022-09-27</th>\n",
       "      <td>1.077006</td>\n",
       "      <td>1.083541</td>\n",
       "      <td>1.073849</td>\n",
       "      <td>1.077284</td>\n",
       "      <td>1.077284</td>\n",
       "      <td>0</td>\n",
       "    </tr>\n",
       "    <tr>\n",
       "      <th>2022-09-28</th>\n",
       "      <td>1.072846</td>\n",
       "      <td>1.083964</td>\n",
       "      <td>1.054163</td>\n",
       "      <td>1.072754</td>\n",
       "      <td>1.072754</td>\n",
       "      <td>0</td>\n",
       "    </tr>\n",
       "    <tr>\n",
       "      <th>2022-09-29</th>\n",
       "      <td>1.083459</td>\n",
       "      <td>1.106562</td>\n",
       "      <td>1.076449</td>\n",
       "      <td>1.083600</td>\n",
       "      <td>1.083600</td>\n",
       "      <td>0</td>\n",
       "    </tr>\n",
       "  </tbody>\n",
       "</table>\n",
       "</div>"
      ],
      "text/plain": [
       "                Open      High       Low     Close  Adj Close  Volume\n",
       "Date                                                                 \n",
       "2022-09-23  1.126304  1.127345  1.089859  1.126418   1.126418       0\n",
       "2022-09-26  1.079914  1.091560  1.037904  1.079739   1.079739       0\n",
       "2022-09-27  1.077006  1.083541  1.073849  1.077284   1.077284       0\n",
       "2022-09-28  1.072846  1.083964  1.054163  1.072754   1.072754       0\n",
       "2022-09-29  1.083459  1.106562  1.076449  1.083600   1.083600       0"
      ]
     },
     "execution_count": 30,
     "metadata": {},
     "output_type": "execute_result"
    }
   ],
   "source": [
    "# Set the ticker as 'GBPUSD=X'\n",
    "forex_data = yf.download('GBPUSD=X', start='2021-09-30', end='2022-09-30')\n",
    "\n",
    "# Set the index to a datetime object\n",
    "forex_data.index = pd.to_datetime(forex_data.index)\n",
    "\n",
    "# Display the last five rows\n",
    "forex_data.tail()"
   ]
  },
  {
   "cell_type": "code",
   "execution_count": 31,
   "id": "4062e25a",
   "metadata": {},
   "outputs": [
    {
     "data": {
      "image/png": "[encoded data removed]",
      "text/plain": [
       "<Figure size 720x288 with 1 Axes>"
      ]
     },
     "metadata": {},
     "output_type": "display_data"
    }
   ],
   "source": [
    "plt.figure(figsize=(10, 4))\n",
    "plt.title(\"GBP - USD Exchange Rate\")\n",
    "plt.xlabel(\"Date\")\n",
    "plt.ylabel(\"Close\")\n",
    "plt.plot(data[\"Close\"])\n",
    "plt.show()"
   ]
  },
  {
   "cell_type": "code",
   "execution_count": 32,
   "id": "9d858963",
   "metadata": {},
   "outputs": [
    {
     "data": {
      "text/plain": [
       "Date         0\n",
       "Open         0\n",
       "High         0\n",
       "Low          0\n",
       "Close        0\n",
       "Adj Close    0\n",
       "Volume       0\n",
       "dtype: int64"
      ]
     },
     "execution_count": 32,
     "metadata": {},
     "output_type": "execute_result"
    }
   ],
   "source": [
    "data.isnull().sum()"
   ]
  },
  {
   "cell_type": "code",
   "execution_count": 33,
   "id": "67d284b0",
   "metadata": {},
   "outputs": [],
   "source": [
    "data = data.dropna()"
   ]
  },
  {
   "cell_type": "code",
   "execution_count": 34,
   "id": "85e24ed6",
   "metadata": {},
   "outputs": [
    {
     "name": "stdout",
     "output_type": "stream",
     "text": [
      "               Open      High       Low     Close  Adj Close  Volume\n",
      "Open       1.000000  0.997150  0.998764  0.999983   0.999983     NaN\n",
      "High       0.997150  1.000000  0.997231  0.997166   0.997166     NaN\n",
      "Low        0.998764  0.997231  1.000000  0.998774   0.998774     NaN\n",
      "Close      0.999983  0.997166  0.998774  1.000000   1.000000     NaN\n",
      "Adj Close  0.999983  0.997166  0.998774  1.000000   1.000000     NaN\n",
      "Volume          NaN       NaN       NaN       NaN        NaN     NaN\n"
     ]
    },
    {
     "data": {
      "image/png": "[encoded data removed]",
      "text/plain": [
       "<Figure size 432x288 with 2 Axes>"
      ]
     },
     "metadata": {},
     "output_type": "display_data"
    }
   ],
   "source": [
    "print(data.corr())\n",
    "sns.heatmap(data.corr())\n",
    "plt.show()"
   ]
  },
  {
   "cell_type": "code",
   "execution_count": 35,
   "id": "16e5c219",
   "metadata": {},
   "outputs": [],
   "source": [
    "x = data[[\"Open\", \"High\", \"Low\"]]\n",
    "y = data[\"Close\"]\n",
    "x = x.to_numpy()\n",
    "y = y.to_numpy()\n",
    "y = y.reshape(-1, 1)"
   ]
  },
  {
   "cell_type": "code",
   "execution_count": 36,
   "id": "4889a575",
   "metadata": {},
   "outputs": [],
   "source": [
    "from sklearn.model_selection import train_test_split\n",
    "xtrain, xtest, ytrain, ytest = train_test_split(x, y, test_size=0.2, random_state=42)\n",
    "\n",
    "from sklearn.tree import DecisionTreeRegressor\n",
    "model = DecisionTreeRegressor()\n",
    "model.fit(xtrain, ytrain)\n",
    "ypred = model.predict(xtest)"
   ]
  },
  {
   "cell_type": "code",
   "execution_count": 37,
   "id": "af3b830e",
   "metadata": {},
   "outputs": [
    {
     "name": "stdout",
     "output_type": "stream",
     "text": [
      "   Predicted Rate\n",
      "0        0.857650\n",
      "1        0.821870\n",
      "2        0.819930\n",
      "3        0.794960\n",
      "4        0.740807\n"
     ]
    }
   ],
   "source": [
    "data = pd.DataFrame(data={\"Predicted Rate\": ypred.flatten()})\n",
    "print(data.head())"
   ]
  },
  {
   "cell_type": "code",
   "execution_count": null,
   "id": "957a7247",
   "metadata": {},
   "outputs": [],
   "source": []
  }
 ],
 "metadata": {
  "kernelspec": {
   "display_name": "Python 3 (ipykernel)",
   "language": "python",
   "name": "python3"
  },
  "language_info": {
   "codemirror_mode": {
    "name": "ipython",
    "version": 3
   },
   "file_extension": ".py",
   "mimetype": "text/x-python",
   "name": "python",
   "nbconvert_exporter": "python",
   "pygments_lexer": "ipython3",
   "version": "3.9.7"
  }
 },
 "nbformat": 4,
 "nbformat_minor": 5
}
